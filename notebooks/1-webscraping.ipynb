{
 "cells": [
  {
   "cell_type": "code",
   "execution_count": 28,
   "metadata": {},
   "outputs": [],
   "source": [
    "from selenium import webdriver\n",
    "\n",
    "# Initialize Firefox WebDriver with the specified profile\n",
    "driver = webdriver.Firefox()"
   ]
  },
  {
   "cell_type": "code",
   "execution_count": 29,
   "metadata": {},
   "outputs": [
    {
     "name": "stdout",
     "output_type": "stream",
     "text": [
      "Button found and visible. Proceeding to click.\n"
     ]
    }
   ],
   "source": [
    "base_url='https://www.marchespublics.gov.ma/index.php?page=entreprise.EntrepriseAdvancedSearch&AllAnn'\n",
    "from selenium.webdriver.common.by import By\n",
    "from selenium.webdriver.support.ui import WebDriverWait\n",
    "from selenium.webdriver.support import expected_conditions as EC\n",
    "\n",
    "\n",
    "# Open the website\n",
    "driver.get(base_url)\n",
    "\n",
    "try:\n",
    "    # Wait for the button to be clickable (you can adjust the timeout as needed)\n",
    "    button = WebDriverWait(driver, 10).until(\n",
    "        EC.element_to_be_clickable((By.ID, 'ctl0_CONTENU_PAGE_AdvancedSearch_lancerRecherche'))\n",
    "    )\n",
    "    # Check if the button is found and visible\n",
    "    if button.is_displayed():\n",
    "        print(\"Button found and visible. Proceeding to click.\")\n",
    "        button.click()\n",
    "    else:\n",
    "        print(\"Button found but not visible.\")\n",
    "    # Alternatively, if you want to find the button by name:\n",
    "    # button = WebDriverWait(driver, 10).until(\n",
    "    #     EC.element_to_be_clickable((By.NAME, 'ctl0$CONTENU_PAGE$AdvancedSearch$lancerRecherche'))\n",
    "    # )\n",
    "    # button.click()\n",
    "\n",
    "    # You can also find the button by class name:\n",
    "    # button = WebDriverWait(driver, 10).until(\n",
    "    #     EC.element_to_be_clickable((By.CLASS_NAME, 'bouton-moyen-120'))\n",
    "    # )\n",
    "    # button.click()\n",
    "\n",
    "finally:\n",
    "    # Close the browser\n",
    "    pass\n",
    "    #driver.quit()\n"
   ]
  },
  {
   "cell_type": "code",
   "execution_count": null,
   "metadata": {},
   "outputs": [],
   "source": []
  }
 ],
 "metadata": {
  "kernelspec": {
   "display_name": "venv",
   "language": "python",
   "name": "python3"
  },
  "language_info": {
   "codemirror_mode": {
    "name": "ipython",
    "version": 3
   },
   "file_extension": ".py",
   "mimetype": "text/x-python",
   "name": "python",
   "nbconvert_exporter": "python",
   "pygments_lexer": "ipython3",
   "version": "3.10.12"
  }
 },
 "nbformat": 4,
 "nbformat_minor": 2
}
